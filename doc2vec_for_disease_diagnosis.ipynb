{
  "nbformat": 4,
  "nbformat_minor": 0,
  "metadata": {
    "colab": {
      "provenance": [],
      "authorship_tag": "ABX9TyNEjryh+RSg7gcbEpRU5zRF",
      "include_colab_link": true
    },
    "kernelspec": {
      "name": "python3",
      "display_name": "Python 3"
    },
    "language_info": {
      "name": "python"
    }
  },
  "cells": [
    {
      "cell_type": "markdown",
      "metadata": {
        "id": "view-in-github",
        "colab_type": "text"
      },
      "source": [
        "<a href=\"https://colab.research.google.com/github/andresvBSE/Highlights-from-summary-tables/blob/main/doc2vec_for_disease_diagnosis.ipynb\" target=\"_parent\"><img src=\"https://colab.research.google.com/assets/colab-badge.svg\" alt=\"Open In Colab\"/></a>"
      ]
    },
    {
      "cell_type": "markdown",
      "source": [
        "Proof of concept of using the doc2vec technique to determine a disease diagnosis give an description of the symptoms\n",
        "\n",
        "Dummy example with only five diseases taken from the [Disease Symptoms and Treatments Dataset\n",
        "](https://www.kaggle.com/datasets/snmahsa/disease-symptoms-and-treatments-dataset/data) from Kaggle\n",
        "\n"
      ],
      "metadata": {
        "id": "Rf6k-lB6tn9-"
      }
    },
    {
      "cell_type": "code",
      "source": [
        "pip install gensim"
      ],
      "metadata": {
        "colab": {
          "base_uri": "https://localhost:8080/"
        },
        "id": "clf-tfj_f4CW",
        "outputId": "d525dbd0-a5c3-417d-db3d-df8f4cbfb763"
      },
      "execution_count": null,
      "outputs": [
        {
          "output_type": "stream",
          "name": "stdout",
          "text": [
            "Requirement already satisfied: gensim in /usr/local/lib/python3.11/dist-packages (4.3.3)\n",
            "Requirement already satisfied: numpy<2.0,>=1.18.5 in /usr/local/lib/python3.11/dist-packages (from gensim) (1.26.4)\n",
            "Requirement already satisfied: scipy<1.14.0,>=1.7.0 in /usr/local/lib/python3.11/dist-packages (from gensim) (1.13.1)\n",
            "Requirement already satisfied: smart-open>=1.8.1 in /usr/local/lib/python3.11/dist-packages (from gensim) (7.1.0)\n",
            "Requirement already satisfied: wrapt in /usr/local/lib/python3.11/dist-packages (from smart-open>=1.8.1->gensim) (1.17.2)\n"
          ]
        }
      ]
    },
    {
      "cell_type": "code",
      "execution_count": null,
      "metadata": {
        "colab": {
          "base_uri": "https://localhost:8080/"
        },
        "id": "47b_SPThcBF6",
        "outputId": "20694b63-4c22-401e-e3e8-a4c51b7493eb"
      },
      "outputs": [
        {
          "output_type": "stream",
          "name": "stderr",
          "text": [
            "[nltk_data] Downloading package punkt_tab to /root/nltk_data...\n",
            "[nltk_data]   Unzipping tokenizers/punkt_tab.zip.\n"
          ]
        },
        {
          "output_type": "execute_result",
          "data": {
            "text/plain": [
              "True"
            ]
          },
          "metadata": {},
          "execution_count": 4
        }
      ],
      "source": [
        "from gensim.models.doc2vec import Doc2Vec, TaggedDocument\n",
        "from nltk.tokenize import word_tokenize\n",
        "\n",
        "import nltk\n",
        "nltk.download('punkt_tab')"
      ]
    },
    {
      "cell_type": "code",
      "source": [
        "# Documents\n",
        "symptoms = [\"Itchy skin, particularly on the hands and feet\", \"Abdominal pain, bleeding, organ dysfunction\", \"Intense itching, especially at night, small blisters or bumps\", \"Cloudy or hazy eyes, excessive tearing, sensitivity to light\", \"Avoidance or restriction of certain foods or entire food groups, significant weight loss or failure to gain weight\"]\n",
        "name = [\"Gestational Cholestasis\", \"Injury to Internal Organ\", \"Scabies\", \"Congenital Glaucoma\", \"Avoidant/Restrictive Food Intake Disorder (ARFID)\"]\n",
        "\n",
        "# Tag and tokenize documents\n",
        "tagged_docs = [TaggedDocument(words=word_tokenize(doc.lower()), tags=[name[i]]) for i, doc in enumerate(symptoms)]"
      ],
      "metadata": {
        "id": "IvTReT-mfzQl"
      },
      "execution_count": null,
      "outputs": []
    },
    {
      "cell_type": "code",
      "source": [
        "# Train model\n",
        "model = Doc2Vec(tagged_docs, vector_size=50, window=2, min_count=1, workers=4, epochs=40)"
      ],
      "metadata": {
        "id": "GI7aoMXZgBzv"
      },
      "execution_count": null,
      "outputs": []
    },
    {
      "cell_type": "markdown",
      "source": [
        "The solution in action"
      ],
      "metadata": {
        "id": "kzR-Tmejt728"
      }
    },
    {
      "cell_type": "code",
      "source": [
        "# Infer vector for a new document\n",
        "new_vector = model.infer_vector(word_tokenize(\"I have issues to gain weight\"))\n",
        "\n",
        "# Find most similar document\n",
        "most_likely_issue = model.dv.most_similar([new_vector])[0][0]\n",
        "print(\"Your are most likely suffering of {}\".format(most_likely_issue))"
      ],
      "metadata": {
        "colab": {
          "base_uri": "https://localhost:8080/"
        },
        "id": "cAylFkpfspLv",
        "outputId": "3e9e7650-1ef2-4286-f35c-8a61f3d0b73c"
      },
      "execution_count": null,
      "outputs": [
        {
          "output_type": "stream",
          "name": "stdout",
          "text": [
            "Your are most likely suffering of Avoidant/Restrictive Food Intake Disorder (ARFID)\n"
          ]
        }
      ]
    },
    {
      "cell_type": "code",
      "source": [
        "# Infer vector for a new document\n",
        "new_vector = model.infer_vector(word_tokenize(\"I am pregnant and I feel itchy skin\"))\n",
        "\n",
        "# Find most similar document\n",
        "most_likely_issue = model.dv.most_similar([new_vector])[0][0]\n",
        "print(\"Your are most likely suffering of {}\".format(most_likely_issue))"
      ],
      "metadata": {
        "colab": {
          "base_uri": "https://localhost:8080/"
        },
        "id": "BjqAkz6Jsq_j",
        "outputId": "7a4f182b-5800-4ab2-9e31-7586a18a2017"
      },
      "execution_count": null,
      "outputs": [
        {
          "output_type": "stream",
          "name": "stdout",
          "text": [
            "Your are most likely suffering of Gestational Cholestasis\n"
          ]
        }
      ]
    }
  ]
}